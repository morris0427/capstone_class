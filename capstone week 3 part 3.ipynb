{
 "cells": [
  {
   "cell_type": "markdown",
   "metadata": {},
   "source": [
    "I found a database to explore the relationship between average incomes in Toronto with other factors, like whether the residents rent or own, and whether they use public transportation."
   ]
  },
  {
   "cell_type": "markdown",
   "metadata": {},
   "source": [
    "Import json file for Toronto Neighborhood demographics"
   ]
  },
  {
   "cell_type": "code",
   "execution_count": 34,
   "metadata": {},
   "outputs": [
    {
     "name": "stdout",
     "output_type": "stream",
     "text": [
      "The geograpical coordinate of Toronto are 43.6534817, -79.3839347.\n"
     ]
    }
   ],
   "source": [
    "import json # library to handle JSON files\n",
    "\n",
    "#!conda install -c conda-forge geopy --yes # uncomment this line if you haven't completed the Foursquare API lab\n",
    "from geopy.geocoders import Nominatim\n",
    "address = 'Toronto'\n",
    "\n",
    "#geolocator = Nominatim(user_agent=\"toronto_explorer\")\n",
    "geolocator = Nominatim(user_agent=\"toronto_explorer\")\n",
    "location = geolocator.geocode(address)\n",
    "latitude = location.latitude\n",
    "longitude = location.longitude\n",
    "print('The geograpical coordinate of Toronto are {}, {}.'.format(latitude, longitude))"
   ]
  },
  {
   "cell_type": "markdown",
   "metadata": {},
   "source": [
    "Here's a map derived from the latitude and longitude values."
   ]
  },
  {
   "cell_type": "code",
   "execution_count": 3,
   "metadata": {
    "scrolled": true
   },
   "outputs": [
    {
     "data": {
      "text/html": [
       "<div style=\"width:100%;\"><div style=\"position:relative;width:100%;height:0;padding-bottom:60%;\"><iframe src=\"about:blank\" style=\"position:absolute;width:100%;height:100%;left:0;top:0;border:none !important;\" data-html=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 onload=\"this.contentDocument.open();this.contentDocument.write(atob(this.getAttribute('data-html')));this.contentDocument.close();\" allowfullscreen webkitallowfullscreen mozallowfullscreen></iframe></div></div>"
      ],
      "text/plain": [
       "<folium.folium.Map at 0x1075b10f0>"
      ]
     },
     "execution_count": 3,
     "metadata": {},
     "output_type": "execute_result"
    }
   ],
   "source": [
    "import folium # map rendering library\n",
    "# create map of Toronto using latitude and longitude values\n",
    "map_toronto = folium.Map(location=[latitude, longitude], zoom_start=10)\n",
    "\n",
    "# add markers to map\n",
    "#for lat, lng, borough, neighborhood in zip(neighborhoods['Latitude'], neighborhoods['Longitude'], neighborhoods['Borough'], neighborhoods['Neighborhood']):\n",
    "#    label = '{}, {}'.format(neighborhood, borough)\n",
    "#    label = folium.Popup(label, parse_html=True)\n",
    "#    folium.CircleMarker(\n",
    "#        [lat, lng],\n",
    "#        radius=5,\n",
    "#        popup=label,\n",
    "#        color='blue',\n",
    "#        fill=True,\n",
    "#        fill_color='#3186cc',\n",
    "#        fill_opacity=0.7,\n",
    "#        parse_html=False).add_to(map_toronto)  \n",
    "    \n",
    "map_toronto"
   ]
  },
  {
   "cell_type": "code",
   "execution_count": 1,
   "metadata": {},
   "outputs": [],
   "source": [
    "import pandas as pd\n",
    "df_code = pd.read_html('https://en.wikipedia.org/wiki/Demographics_of_Toronto_neighbourhoods')[1]"
   ]
  },
  {
   "cell_type": "markdown",
   "metadata": {},
   "source": [
    "Here's a sample of that data."
   ]
  },
  {
   "cell_type": "code",
   "execution_count": 2,
   "metadata": {
    "scrolled": true
   },
   "outputs": [
    {
     "data": {
      "text/html": [
       "<div>\n",
       "<style scoped>\n",
       "    .dataframe tbody tr th:only-of-type {\n",
       "        vertical-align: middle;\n",
       "    }\n",
       "\n",
       "    .dataframe tbody tr th {\n",
       "        vertical-align: top;\n",
       "    }\n",
       "\n",
       "    .dataframe thead th {\n",
       "        text-align: right;\n",
       "    }\n",
       "</style>\n",
       "<table border=\"1\" class=\"dataframe\">\n",
       "  <thead>\n",
       "    <tr style=\"text-align: right;\">\n",
       "      <th></th>\n",
       "      <th>Name</th>\n",
       "      <th>FM</th>\n",
       "      <th>Census Tracts</th>\n",
       "      <th>Population</th>\n",
       "      <th>Land area (km2)</th>\n",
       "      <th>Density (people/km2)</th>\n",
       "      <th>% Change in Population since 2001</th>\n",
       "      <th>Average Income</th>\n",
       "      <th>Transit Commuting %</th>\n",
       "      <th>% Renters</th>\n",
       "      <th>Second most common language (after English) by name</th>\n",
       "      <th>Second most common language (after English) by percentage</th>\n",
       "      <th>Map</th>\n",
       "    </tr>\n",
       "  </thead>\n",
       "  <tbody>\n",
       "    <tr>\n",
       "      <th>0</th>\n",
       "      <td>Toronto CMA Average</td>\n",
       "      <td>NaN</td>\n",
       "      <td>All</td>\n",
       "      <td>5113149</td>\n",
       "      <td>5903.63</td>\n",
       "      <td>866</td>\n",
       "      <td>9.0</td>\n",
       "      <td>40704</td>\n",
       "      <td>10.6</td>\n",
       "      <td>11.4</td>\n",
       "      <td>NaN</td>\n",
       "      <td>NaN</td>\n",
       "      <td>NaN</td>\n",
       "    </tr>\n",
       "    <tr>\n",
       "      <th>1</th>\n",
       "      <td>Agincourt</td>\n",
       "      <td>S</td>\n",
       "      <td>0377.01, 0377.02, 0377.03, 0377.04, 0378.02, 0...</td>\n",
       "      <td>44577</td>\n",
       "      <td>12.45</td>\n",
       "      <td>3580</td>\n",
       "      <td>4.6</td>\n",
       "      <td>25750</td>\n",
       "      <td>11.1</td>\n",
       "      <td>5.9</td>\n",
       "      <td>Cantonese (19.3%)</td>\n",
       "      <td>19.3% Cantonese</td>\n",
       "      <td>NaN</td>\n",
       "    </tr>\n",
       "    <tr>\n",
       "      <th>2</th>\n",
       "      <td>Alderwood</td>\n",
       "      <td>E</td>\n",
       "      <td>0211.00, 0212.00</td>\n",
       "      <td>11656</td>\n",
       "      <td>4.94</td>\n",
       "      <td>2360</td>\n",
       "      <td>-4.0</td>\n",
       "      <td>35239</td>\n",
       "      <td>8.8</td>\n",
       "      <td>8.5</td>\n",
       "      <td>Polish (6.2%)</td>\n",
       "      <td>06.2% Polish</td>\n",
       "      <td>NaN</td>\n",
       "    </tr>\n",
       "    <tr>\n",
       "      <th>3</th>\n",
       "      <td>Alexandra Park</td>\n",
       "      <td>OCoT</td>\n",
       "      <td>0039.00</td>\n",
       "      <td>4355</td>\n",
       "      <td>0.32</td>\n",
       "      <td>13609</td>\n",
       "      <td>0.0</td>\n",
       "      <td>19687</td>\n",
       "      <td>13.8</td>\n",
       "      <td>28.0</td>\n",
       "      <td>Cantonese (17.9%)</td>\n",
       "      <td>17.9% Cantonese</td>\n",
       "      <td>NaN</td>\n",
       "    </tr>\n",
       "    <tr>\n",
       "      <th>4</th>\n",
       "      <td>Allenby</td>\n",
       "      <td>OCoT</td>\n",
       "      <td>0140.00</td>\n",
       "      <td>2513</td>\n",
       "      <td>0.58</td>\n",
       "      <td>4333</td>\n",
       "      <td>-1.0</td>\n",
       "      <td>245592</td>\n",
       "      <td>5.2</td>\n",
       "      <td>3.4</td>\n",
       "      <td>Russian (1.4%)</td>\n",
       "      <td>01.4% Russian</td>\n",
       "      <td>NaN</td>\n",
       "    </tr>\n",
       "  </tbody>\n",
       "</table>\n",
       "</div>"
      ],
      "text/plain": [
       "                  Name    FM  \\\n",
       "0  Toronto CMA Average   NaN   \n",
       "1            Agincourt     S   \n",
       "2            Alderwood     E   \n",
       "3       Alexandra Park  OCoT   \n",
       "4              Allenby  OCoT   \n",
       "\n",
       "                                       Census Tracts  Population  \\\n",
       "0                                                All     5113149   \n",
       "1  0377.01, 0377.02, 0377.03, 0377.04, 0378.02, 0...       44577   \n",
       "2                                   0211.00, 0212.00       11656   \n",
       "3                                            0039.00        4355   \n",
       "4                                            0140.00        2513   \n",
       "\n",
       "   Land area (km2)  Density (people/km2)  % Change in Population since 2001  \\\n",
       "0          5903.63                   866                                9.0   \n",
       "1            12.45                  3580                                4.6   \n",
       "2             4.94                  2360                               -4.0   \n",
       "3             0.32                 13609                                0.0   \n",
       "4             0.58                  4333                               -1.0   \n",
       "\n",
       "   Average Income  Transit Commuting %  % Renters  \\\n",
       "0           40704                 10.6       11.4   \n",
       "1           25750                 11.1        5.9   \n",
       "2           35239                  8.8        8.5   \n",
       "3           19687                 13.8       28.0   \n",
       "4          245592                  5.2        3.4   \n",
       "\n",
       "  Second most common language (after English) by name  \\\n",
       "0                                                NaN    \n",
       "1                                  Cantonese (19.3%)    \n",
       "2                                      Polish (6.2%)    \n",
       "3                                  Cantonese (17.9%)    \n",
       "4                                     Russian (1.4%)    \n",
       "\n",
       "  Second most common language (after English) by percentage  Map  \n",
       "0                                                NaN         NaN  \n",
       "1                                    19.3% Cantonese         NaN  \n",
       "2                                       06.2% Polish         NaN  \n",
       "3                                    17.9% Cantonese         NaN  \n",
       "4                                      01.4% Russian         NaN  "
      ]
     },
     "execution_count": 2,
     "metadata": {},
     "output_type": "execute_result"
    }
   ],
   "source": [
    "df_code.head()"
   ]
  },
  {
   "cell_type": "markdown",
   "metadata": {},
   "source": [
    "We're interested in the columns related to population, income % renters and transportation habits, so we remove other columns"
   ]
  },
  {
   "cell_type": "code",
   "execution_count": 3,
   "metadata": {},
   "outputs": [],
   "source": [
    "df_code.drop(df_code.columns[[1,2,6,10,11,12]],axis=1,inplace=True)"
   ]
  },
  {
   "cell_type": "code",
   "execution_count": 4,
   "metadata": {},
   "outputs": [
    {
     "data": {
      "text/html": [
       "<div>\n",
       "<style scoped>\n",
       "    .dataframe tbody tr th:only-of-type {\n",
       "        vertical-align: middle;\n",
       "    }\n",
       "\n",
       "    .dataframe tbody tr th {\n",
       "        vertical-align: top;\n",
       "    }\n",
       "\n",
       "    .dataframe thead th {\n",
       "        text-align: right;\n",
       "    }\n",
       "</style>\n",
       "<table border=\"1\" class=\"dataframe\">\n",
       "  <thead>\n",
       "    <tr style=\"text-align: right;\">\n",
       "      <th></th>\n",
       "      <th>Name</th>\n",
       "      <th>Population</th>\n",
       "      <th>Land area (km2)</th>\n",
       "      <th>Density (people/km2)</th>\n",
       "      <th>Average Income</th>\n",
       "      <th>Transit Commuting %</th>\n",
       "      <th>% Renters</th>\n",
       "    </tr>\n",
       "  </thead>\n",
       "  <tbody>\n",
       "    <tr>\n",
       "      <th>0</th>\n",
       "      <td>Toronto CMA Average</td>\n",
       "      <td>5113149</td>\n",
       "      <td>5903.63</td>\n",
       "      <td>866</td>\n",
       "      <td>40704</td>\n",
       "      <td>10.6</td>\n",
       "      <td>11.4</td>\n",
       "    </tr>\n",
       "    <tr>\n",
       "      <th>1</th>\n",
       "      <td>Agincourt</td>\n",
       "      <td>44577</td>\n",
       "      <td>12.45</td>\n",
       "      <td>3580</td>\n",
       "      <td>25750</td>\n",
       "      <td>11.1</td>\n",
       "      <td>5.9</td>\n",
       "    </tr>\n",
       "    <tr>\n",
       "      <th>2</th>\n",
       "      <td>Alderwood</td>\n",
       "      <td>11656</td>\n",
       "      <td>4.94</td>\n",
       "      <td>2360</td>\n",
       "      <td>35239</td>\n",
       "      <td>8.8</td>\n",
       "      <td>8.5</td>\n",
       "    </tr>\n",
       "    <tr>\n",
       "      <th>3</th>\n",
       "      <td>Alexandra Park</td>\n",
       "      <td>4355</td>\n",
       "      <td>0.32</td>\n",
       "      <td>13609</td>\n",
       "      <td>19687</td>\n",
       "      <td>13.8</td>\n",
       "      <td>28.0</td>\n",
       "    </tr>\n",
       "    <tr>\n",
       "      <th>4</th>\n",
       "      <td>Allenby</td>\n",
       "      <td>2513</td>\n",
       "      <td>0.58</td>\n",
       "      <td>4333</td>\n",
       "      <td>245592</td>\n",
       "      <td>5.2</td>\n",
       "      <td>3.4</td>\n",
       "    </tr>\n",
       "  </tbody>\n",
       "</table>\n",
       "</div>"
      ],
      "text/plain": [
       "                  Name  Population  Land area (km2)  Density (people/km2)  \\\n",
       "0  Toronto CMA Average     5113149          5903.63                   866   \n",
       "1            Agincourt       44577            12.45                  3580   \n",
       "2            Alderwood       11656             4.94                  2360   \n",
       "3       Alexandra Park        4355             0.32                 13609   \n",
       "4              Allenby        2513             0.58                  4333   \n",
       "\n",
       "   Average Income  Transit Commuting %  % Renters  \n",
       "0           40704                 10.6       11.4  \n",
       "1           25750                 11.1        5.9  \n",
       "2           35239                  8.8        8.5  \n",
       "3           19687                 13.8       28.0  \n",
       "4          245592                  5.2        3.4  "
      ]
     },
     "execution_count": 4,
     "metadata": {},
     "output_type": "execute_result"
    }
   ],
   "source": [
    "#df.drop(df.columns[[0, 4, 2]], axis = 1, inplace = True)\n",
    "df_code.head()"
   ]
  },
  {
   "cell_type": "markdown",
   "metadata": {},
   "source": [
    "We're separate out the first row, which summarizes all the rest of the data. We might use it later so we save it."
   ]
  },
  {
   "cell_type": "code",
   "execution_count": 5,
   "metadata": {},
   "outputs": [],
   "source": [
    "df_toronto = df_code.iloc[0]"
   ]
  },
  {
   "cell_type": "markdown",
   "metadata": {},
   "source": [
    "Now we have just neighborhood data."
   ]
  },
  {
   "cell_type": "code",
   "execution_count": 6,
   "metadata": {},
   "outputs": [
    {
     "data": {
      "text/plain": [
       "Name                    Toronto CMA Average\n",
       "Population                          5113149\n",
       "Land area (km2)                     5903.63\n",
       "Density (people/km2)                    866\n",
       "Average Income                        40704\n",
       "Name: 0, dtype: object"
      ]
     },
     "execution_count": 6,
     "metadata": {},
     "output_type": "execute_result"
    }
   ],
   "source": [
    "df_toronto.head()"
   ]
  },
  {
   "cell_type": "code",
   "execution_count": 11,
   "metadata": {},
   "outputs": [],
   "source": [
    "df_code.drop(df_code.index[0],inplace=True)"
   ]
  },
  {
   "cell_type": "markdown",
   "metadata": {},
   "source": [
    "Here's the final frame we will study."
   ]
  },
  {
   "cell_type": "code",
   "execution_count": 7,
   "metadata": {},
   "outputs": [
    {
     "data": {
      "text/html": [
       "<div>\n",
       "<style scoped>\n",
       "    .dataframe tbody tr th:only-of-type {\n",
       "        vertical-align: middle;\n",
       "    }\n",
       "\n",
       "    .dataframe tbody tr th {\n",
       "        vertical-align: top;\n",
       "    }\n",
       "\n",
       "    .dataframe thead th {\n",
       "        text-align: right;\n",
       "    }\n",
       "</style>\n",
       "<table border=\"1\" class=\"dataframe\">\n",
       "  <thead>\n",
       "    <tr style=\"text-align: right;\">\n",
       "      <th></th>\n",
       "      <th>Name</th>\n",
       "      <th>Population</th>\n",
       "      <th>Land area (km2)</th>\n",
       "      <th>Density (people/km2)</th>\n",
       "      <th>Average Income</th>\n",
       "      <th>Transit Commuting %</th>\n",
       "      <th>% Renters</th>\n",
       "    </tr>\n",
       "  </thead>\n",
       "  <tbody>\n",
       "    <tr>\n",
       "      <th>170</th>\n",
       "      <td>Woburn</td>\n",
       "      <td>48507</td>\n",
       "      <td>13.34</td>\n",
       "      <td>3636</td>\n",
       "      <td>26190</td>\n",
       "      <td>13.3</td>\n",
       "      <td>16.0</td>\n",
       "    </tr>\n",
       "    <tr>\n",
       "      <th>171</th>\n",
       "      <td>Wychwood</td>\n",
       "      <td>4182</td>\n",
       "      <td>0.68</td>\n",
       "      <td>6150</td>\n",
       "      <td>53613</td>\n",
       "      <td>17.1</td>\n",
       "      <td>20.1</td>\n",
       "    </tr>\n",
       "    <tr>\n",
       "      <th>172</th>\n",
       "      <td>York Mills</td>\n",
       "      <td>17564</td>\n",
       "      <td>7.29</td>\n",
       "      <td>2409</td>\n",
       "      <td>92099</td>\n",
       "      <td>10.0</td>\n",
       "      <td>11.8</td>\n",
       "    </tr>\n",
       "    <tr>\n",
       "      <th>173</th>\n",
       "      <td>York University Heights</td>\n",
       "      <td>26140</td>\n",
       "      <td>13.21</td>\n",
       "      <td>1979</td>\n",
       "      <td>24432</td>\n",
       "      <td>15.2</td>\n",
       "      <td>20.4</td>\n",
       "    </tr>\n",
       "    <tr>\n",
       "      <th>174</th>\n",
       "      <td>Yorkville</td>\n",
       "      <td>6045</td>\n",
       "      <td>0.56</td>\n",
       "      <td>10795</td>\n",
       "      <td>105239</td>\n",
       "      <td>18.3</td>\n",
       "      <td>27.9</td>\n",
       "    </tr>\n",
       "  </tbody>\n",
       "</table>\n",
       "</div>"
      ],
      "text/plain": [
       "                        Name  Population  Land area (km2)  \\\n",
       "170                   Woburn       48507            13.34   \n",
       "171                 Wychwood        4182             0.68   \n",
       "172               York Mills       17564             7.29   \n",
       "173  York University Heights       26140            13.21   \n",
       "174                Yorkville        6045             0.56   \n",
       "\n",
       "     Density (people/km2)  Average Income  Transit Commuting %  % Renters  \n",
       "170                  3636           26190                 13.3       16.0  \n",
       "171                  6150           53613                 17.1       20.1  \n",
       "172                  2409           92099                 10.0       11.8  \n",
       "173                  1979           24432                 15.2       20.4  \n",
       "174                 10795          105239                 18.3       27.9  "
      ]
     },
     "execution_count": 7,
     "metadata": {},
     "output_type": "execute_result"
    }
   ],
   "source": [
    "df_code.tail()"
   ]
  },
  {
   "cell_type": "code",
   "execution_count": 8,
   "metadata": {},
   "outputs": [
    {
     "name": "stdout",
     "output_type": "stream",
     "text": [
      "Matplotlib version:  2.2.2\n"
     ]
    }
   ],
   "source": [
    "# use the inline backend to generate the plots within the browser\n",
    "%matplotlib inline \n",
    "\n",
    "import matplotlib as mpl\n",
    "import matplotlib.pyplot as plt\n",
    "\n",
    "mpl.style.use('ggplot') # optional: for ggplot-like style\n",
    "\n",
    "# check for latest version of Matplotlib\n",
    "print ('Matplotlib version: ', mpl.__version__) # >= 2.0.0"
   ]
  },
  {
   "cell_type": "markdown",
   "metadata": {},
   "source": [
    "Let's first look at income distribution"
   ]
  },
  {
   "cell_type": "code",
   "execution_count": 9,
   "metadata": {},
   "outputs": [
    {
     "name": "stdout",
     "output_type": "stream",
     "text": [
      "[134  14  15   6   1   0   3   1   0   1]\n",
      "[ 19521.   48979.6  78438.2 107896.8 137355.4 166814.  196272.6 225731.2\n",
      " 255189.8 284648.4 314107. ]\n"
     ]
    }
   ],
   "source": [
    "import numpy as np\n",
    "#df_code['Average Income'].head(10)\n",
    "count, bin_edges = np.histogram(df_code['Average Income'])\n",
    "\n",
    "print(count) # frequency count\n",
    "print(bin_edges) # bin ranges, default = 10 bins"
   ]
  },
  {
   "cell_type": "code",
   "execution_count": 79,
   "metadata": {},
   "outputs": [
    {
     "data": {
      "text/plain": [
       "Name                     object\n",
       "Population                int64\n",
       "Land area (km2)         float64\n",
       "Density (people/km2)      int64\n",
       "Average Income            int64\n",
       "Transit Commuting %     float64\n",
       "% Renters               float64\n",
       "dtype: object"
      ]
     },
     "execution_count": 79,
     "metadata": {},
     "output_type": "execute_result"
    }
   ],
   "source": [
    "df_code.dtypes"
   ]
  },
  {
   "cell_type": "markdown",
   "metadata": {},
   "source": [
    "We will first generate a histogram of income distributions"
   ]
  },
  {
   "cell_type": "code",
   "execution_count": 10,
   "metadata": {},
   "outputs": [
    {
     "data": {
      "image/png": "[encoded data removed]",
      "text/plain": [
       "<Figure size 576x360 with 1 Axes>"
      ]
     },
     "metadata": {
      "needs_background": "light"
     },
     "output_type": "display_data"
    }
   ],
   "source": [
    "#df_code['Average Income'].plot(kind='hist', figsize=(8, 5))\n",
    "df_code['Average Income'].plot(kind='hist', figsize=(8, 5), xticks=bin_edges)\n",
    "plt.title('Histogram of Income Distribution for Toronto') # add a title to the histogram\n",
    "plt.ylabel('Number in that income range') # add y-label\n",
    "plt.xlabel('Average Income range') # add x-label\n",
    "\n",
    "plt.show()"
   ]
  },
  {
   "cell_type": "markdown",
   "metadata": {},
   "source": [
    "Let's try to explore correlations between the variables. First, at low ends of the income scale there is a higher percentage of renters, but also a lot of variability. At high ends of the income scale, there are fewer data points but the suggestion is that there are fewer renters."
   ]
  },
  {
   "cell_type": "code",
   "execution_count": 12,
   "metadata": {},
   "outputs": [
    {
     "data": {
      "text/plain": [
       "<Figure size 1440x720 with 0 Axes>"
      ]
     },
     "execution_count": 12,
     "metadata": {},
     "output_type": "execute_result"
    },
    {
     "data": {
      "image/png": "[encoded data removed]",
      "text/plain": [
       "<Figure size 432x288 with 1 Axes>"
      ]
     },
     "metadata": {
      "needs_background": "light"
     },
     "output_type": "display_data"
    },
    {
     "data": {
      "text/plain": [
       "<Figure size 1440x720 with 0 Axes>"
      ]
     },
     "metadata": {},
     "output_type": "display_data"
    }
   ],
   "source": [
    "import seaborn as sns\n",
    "ax = sns.regplot(x='Average Income', y='% Renters', data=df_code, color='green', marker='+')\n",
    "plt.figure(figsize=(20, 10))"
   ]
  },
  {
   "cell_type": "markdown",
   "metadata": {},
   "source": [
    "A similar trend seems to hold between income and the number of those who use public transport."
   ]
  },
  {
   "cell_type": "code",
   "execution_count": 13,
   "metadata": {},
   "outputs": [
    {
     "data": {
      "text/plain": [
       "<Figure size 1440x720 with 0 Axes>"
      ]
     },
     "execution_count": 13,
     "metadata": {},
     "output_type": "execute_result"
    },
    {
     "data": {
      "image/png": "[encoded data removed]",
      "text/plain": [
       "<Figure size 432x288 with 1 Axes>"
      ]
     },
     "metadata": {
      "needs_background": "light"
     },
     "output_type": "display_data"
    },
    {
     "data": {
      "text/plain": [
       "<Figure size 1440x720 with 0 Axes>"
      ]
     },
     "metadata": {},
     "output_type": "display_data"
    }
   ],
   "source": [
    "ax = sns.regplot(x='Average Income', y='Transit Commuting\\xa0%', data=df_code, color='green', marker='+')\n",
    "plt.figure(figsize=(20, 10))"
   ]
  },
  {
   "cell_type": "markdown",
   "metadata": {},
   "source": [
    "Another histogram of the data pairing income with renting"
   ]
  },
  {
   "cell_type": "code",
   "execution_count": 15,
   "metadata": {},
   "outputs": [
    {
     "data": {
      "image/png": "[encoded data removed]",
      "text/plain": [
       "<Figure size 432x288 with 1 Axes>"
      ]
     },
     "metadata": {
      "needs_background": "light"
     },
     "output_type": "display_data"
    }
   ],
   "source": [
    "df_code.plot(x='Average Income', y='% Renters', style='o')  \n",
    "plt.title('Income vs Renters')  \n",
    "plt.xlabel('Average Income')  \n",
    "plt.ylabel('Renters')  \n",
    "plt.show()"
   ]
  },
  {
   "cell_type": "markdown",
   "metadata": {},
   "source": [
    "I used seaborn to show the distribution of incomes"
   ]
  },
  {
   "cell_type": "code",
   "execution_count": 16,
   "metadata": {},
   "outputs": [
    {
     "data": {
      "text/plain": [
       "<matplotlib.axes._subplots.AxesSubplot at 0x11e8fdba8>"
      ]
     },
     "execution_count": 16,
     "metadata": {},
     "output_type": "execute_result"
    },
    {
     "data": {
      "image/png": "[encoded data removed]",
      "text/plain": [
       "<Figure size 1080x720 with 1 Axes>"
      ]
     },
     "metadata": {
      "needs_background": "light"
     },
     "output_type": "display_data"
    }
   ],
   "source": [
    "import seaborn as seabornInstance \n",
    "from sklearn.model_selection import train_test_split \n",
    "from sklearn.linear_model import LinearRegression\n",
    "from sklearn import metrics\n",
    "%matplotlib inline\n",
    "plt.figure(figsize=(15,10))\n",
    "plt.tight_layout()\n",
    "seabornInstance.distplot(df_code['Average Income'])"
   ]
  },
  {
   "cell_type": "markdown",
   "metadata": {},
   "source": [
    "I built a linear model that allows me to predict the income from a combination of information about whether they commute using public transportation and whether they rent."
   ]
  },
  {
   "cell_type": "code",
   "execution_count": 21,
   "metadata": {},
   "outputs": [
    {
     "name": "stdout",
     "output_type": "stream",
     "text": [
      "Intercept: \n",
      " [95378.89519557]\n",
      "Coefficients: \n",
      " [[-2986.0825566      3.05139686]]\n",
      "Predicted Income: \n",
      " [[30496.59434245]]\n"
     ]
    }
   ],
   "source": [
    "from sklearn import linear_model\n",
    "#X = df_code['Transit Commuting\\xa0%'].values.reshape(-1,1)\n",
    "X = df_code[['Transit Commuting\\xa0%','% Renters']]\n",
    "y = df_code['Average Income'].values.reshape(-1,1)\n",
    "#X_train, X_test, y_train, y_test = train_test_split(X, y, test_size=0.2, random_state=0)\n",
    "regr = linear_model.LinearRegression()\n",
    "regr.fit(X, y)\n",
    "print('Intercept: \\n', regr.intercept_)\n",
    "print('Coefficients: \\n', regr.coef_)\n",
    "\n",
    "# prediction with sklearn model\n",
    "New_Commuting = 21.75\n",
    "New_Renters = 21.3\n",
    "print ('Predicted Income: \\n', regr.predict([[New_Commuting ,New_Renters]]))"
   ]
  },
  {
   "cell_type": "markdown",
   "metadata": {},
   "source": [
    "The rest of the work I did was incomplete. I wanted to show how incomes cluster in neighborhoods. I found a map of Toronto that used polygons to show the neighborhoods."
   ]
  },
  {
   "cell_type": "code",
   "execution_count": 203,
   "metadata": {},
   "outputs": [
    {
     "name": "stderr",
     "output_type": "stream",
     "text": [
      "/Users/rmorrisk/Library/Python/3.6/lib/python/site-packages/geopandas/plotting.py:504: FutureWarning: 'axes' is deprecated, please use 'ax' instead (for consistency with pandas)\n",
      "  FutureWarning,\n"
     ]
    },
    {
     "data": {
      "image/png": "[encoded data removed]",
      "text/plain": [
       "<Figure size 1080x1080 with 1 Axes>"
      ]
     },
     "metadata": {
      "needs_background": "light"
     },
     "output_type": "display_data"
    }
   ],
   "source": [
    "import geopandas as gpd\n",
    "import geojson\n",
    "!SHAPE_RESTORE_SHX='YES'\n",
    "tor = gpd.read_file('toronto_topo.json')\n",
    "tor.rename(columns={'name':'Name'},inplace=True)#neighborhoods.plot(alpha=1)\n",
    "#tor.plot(alpha=1)\n",
    "tor.loc[0, 'geometry']\n",
    "f, ax = plt.subplots(1, figsize=(15,15))\n",
    "f.suptitle('Toronto Neighborhoods')\n",
    "ax = tor.plot(axes=ax)\n",
    "ax.set_axis_off()\n",
    "plt.show()"
   ]
  },
  {
   "cell_type": "markdown",
   "metadata": {},
   "source": [
    "I wanted to join thw tor dataframe to the df_code dataframe to create a new dataframe that had columns for neighborhood name, average income, and 'geometry' which is a polygon of coordinates for each neighborhood. First, I defined the new  dataframe called 'neighborhoods' with those three columns."
   ]
  },
  {
   "cell_type": "code",
   "execution_count": null,
   "metadata": {},
   "outputs": [],
   "source": [
    "df_code.drop(df_code.index[0],inplace=True)\n",
    "column_names = ['Name', 'Average Income', 'geometry'] \n",
    "# instantiate the dataframe\n",
    "neighborhoods = pd.DataFrame(columns=column_names)"
   ]
  },
  {
   "cell_type": "markdown",
   "metadata": {},
   "source": [
    "Then I added the rows by doing a join on the values of 'Name'. This was tricky because the names of the neighborhood were not identical in the two dataframes, so I did a string comparison to extract common neighborhoods (this might not work perfectly). "
   ]
  },
  {
   "cell_type": "code",
   "execution_count": 163,
   "metadata": {},
   "outputs": [],
   "source": [
    "for data in df_code.iterrows():\n",
    "    for data2 in tor.iterrows():\n",
    "        str = data[1].Name\n",
    "        str2 = data2[1].Name \n",
    "        #if str.find(data2[1].Name):\n",
    "        if str2.find(str) != -1:\n",
    "            neighborhoods = neighborhoods.append({'Name': data[1]['Name'], \n",
    "                              'Average Income' : data[1]['Average Income'], \n",
    "                                  'geometry': data2[1]['geometry']},ignore_index=True)"
   ]
  },
  {
   "cell_type": "markdown",
   "metadata": {},
   "source": [
    "This is what the new dataframe looks like. It looks right but I had a hard time displaying it."
   ]
  },
  {
   "cell_type": "code",
   "execution_count": 191,
   "metadata": {},
   "outputs": [
    {
     "data": {
      "text/html": [
       "<div>\n",
       "<style scoped>\n",
       "    .dataframe tbody tr th:only-of-type {\n",
       "        vertical-align: middle;\n",
       "    }\n",
       "\n",
       "    .dataframe tbody tr th {\n",
       "        vertical-align: top;\n",
       "    }\n",
       "\n",
       "    .dataframe thead th {\n",
       "        text-align: right;\n",
       "    }\n",
       "</style>\n",
       "<table border=\"1\" class=\"dataframe\">\n",
       "  <thead>\n",
       "    <tr style=\"text-align: right;\">\n",
       "      <th></th>\n",
       "      <th>Name</th>\n",
       "      <th>Average Income</th>\n",
       "      <th>geometry</th>\n",
       "    </tr>\n",
       "  </thead>\n",
       "  <tbody>\n",
       "    <tr>\n",
       "      <th>0</th>\n",
       "      <td>Agincourt</td>\n",
       "      <td>25750</td>\n",
       "      <td>POLYGON ((-79.24212154354186 43.8024808760853,...</td>\n",
       "    </tr>\n",
       "    <tr>\n",
       "      <th>1</th>\n",
       "      <td>Agincourt</td>\n",
       "      <td>25750</td>\n",
       "      <td>POLYGON ((-79.25496136030053 43.78123545559206...</td>\n",
       "    </tr>\n",
       "    <tr>\n",
       "      <th>2</th>\n",
       "      <td>Alderwood</td>\n",
       "      <td>35239</td>\n",
       "      <td>POLYGON ((-79.54865251587448 43.59021881319863...</td>\n",
       "    </tr>\n",
       "    <tr>\n",
       "      <th>3</th>\n",
       "      <td>Amesbury</td>\n",
       "      <td>27546</td>\n",
       "      <td>POLYGON ((-79.50295324969666 43.69573224520902...</td>\n",
       "    </tr>\n",
       "    <tr>\n",
       "      <th>4</th>\n",
       "      <td>Banbury</td>\n",
       "      <td>92319</td>\n",
       "      <td>POLYGON ((-79.33053285322302 43.73978767142565...</td>\n",
       "    </tr>\n",
       "  </tbody>\n",
       "</table>\n",
       "</div>"
      ],
      "text/plain": [
       "        Name Average Income                                           geometry\n",
       "0  Agincourt          25750  POLYGON ((-79.24212154354186 43.8024808760853,...\n",
       "1  Agincourt          25750  POLYGON ((-79.25496136030053 43.78123545559206...\n",
       "2  Alderwood          35239  POLYGON ((-79.54865251587448 43.59021881319863...\n",
       "3   Amesbury          27546  POLYGON ((-79.50295324969666 43.69573224520902...\n",
       "4    Banbury          92319  POLYGON ((-79.33053285322302 43.73978767142565..."
      ]
     },
     "execution_count": 191,
     "metadata": {},
     "output_type": "execute_result"
    }
   ],
   "source": [
    "neighborhoods.crs = tor.crs\n",
    "neighborhoods.head()"
   ]
  },
  {
   "cell_type": "markdown",
   "metadata": {},
   "source": [
    "Here's the top five neighborhoods by income. I wanted first to add a different fill color to the overall map for these neighborhoods."
   ]
  },
  {
   "cell_type": "code",
   "execution_count": 171,
   "metadata": {},
   "outputs": [
    {
     "data": {
      "text/html": [
       "<div>\n",
       "<style scoped>\n",
       "    .dataframe tbody tr th:only-of-type {\n",
       "        vertical-align: middle;\n",
       "    }\n",
       "\n",
       "    .dataframe tbody tr th {\n",
       "        vertical-align: top;\n",
       "    }\n",
       "\n",
       "    .dataframe thead th {\n",
       "        text-align: right;\n",
       "    }\n",
       "</style>\n",
       "<table border=\"1\" class=\"dataframe\">\n",
       "  <thead>\n",
       "    <tr style=\"text-align: right;\">\n",
       "      <th></th>\n",
       "      <th>Name</th>\n",
       "      <th>Average Income</th>\n",
       "      <th>geometry</th>\n",
       "    </tr>\n",
       "  </thead>\n",
       "  <tbody>\n",
       "    <tr>\n",
       "      <th>12</th>\n",
       "      <td>Bridle Path</td>\n",
       "      <td>314107</td>\n",
       "      <td>POLYGON ((-79.39006767705101 43.72768272253995...</td>\n",
       "    </tr>\n",
       "    <tr>\n",
       "      <th>50</th>\n",
       "      <td>Lawrence Park</td>\n",
       "      <td>214110</td>\n",
       "      <td>POLYGON ((-79.39006767705101 43.72768272253995...</td>\n",
       "    </tr>\n",
       "    <tr>\n",
       "      <th>49</th>\n",
       "      <td>Lawrence Park</td>\n",
       "      <td>214110</td>\n",
       "      <td>POLYGON ((-79.41097823577228 43.70407669976968...</td>\n",
       "    </tr>\n",
       "    <tr>\n",
       "      <th>80</th>\n",
       "      <td>Rosedale</td>\n",
       "      <td>213941</td>\n",
       "      <td>POLYGON ((-79.36339230264217 43.67531029062636...</td>\n",
       "    </tr>\n",
       "    <tr>\n",
       "      <th>62</th>\n",
       "      <td>Moore Park</td>\n",
       "      <td>154825</td>\n",
       "      <td>POLYGON ((-79.36339230264217 43.67531029062636...</td>\n",
       "    </tr>\n",
       "  </tbody>\n",
       "</table>\n",
       "</div>"
      ],
      "text/plain": [
       "             Name Average Income  \\\n",
       "12    Bridle Path         314107   \n",
       "50  Lawrence Park         214110   \n",
       "49  Lawrence Park         214110   \n",
       "80       Rosedale         213941   \n",
       "62     Moore Park         154825   \n",
       "\n",
       "                                             geometry  \n",
       "12  POLYGON ((-79.39006767705101 43.72768272253995...  \n",
       "50  POLYGON ((-79.39006767705101 43.72768272253995...  \n",
       "49  POLYGON ((-79.41097823577228 43.70407669976968...  \n",
       "80  POLYGON ((-79.36339230264217 43.67531029062636...  \n",
       "62  POLYGON ((-79.36339230264217 43.67531029062636...  "
      ]
     },
     "execution_count": 171,
     "metadata": {},
     "output_type": "execute_result"
    }
   ],
   "source": [
    "largest = neighborhoods.sort_values(by='Average Income',ascending=False).head(5)\n",
    "largest"
   ]
  },
  {
   "cell_type": "markdown",
   "metadata": {},
   "source": [
    "This is as far as I got before the deadline."
   ]
  }
 ],
 "metadata": {
  "kernelspec": {
   "display_name": "Python 3",
   "language": "python",
   "name": "python3"
  },
  "language_info": {
   "codemirror_mode": {
    "name": "ipython",
    "version": 3
   },
   "file_extension": ".py",
   "mimetype": "text/x-python",
   "name": "python",
   "nbconvert_exporter": "python",
   "pygments_lexer": "ipython3",
   "version": "3.6.10"
  }
 },
 "nbformat": 4,
 "nbformat_minor": 2
}
