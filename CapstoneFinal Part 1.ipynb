{
 "cells": [
  {
   "cell_type": "markdown",
   "metadata": {},
   "source": [
    "Toronto Neighborhood Demographics and the Potential for New Restaurant Success\n",
    "\n",
    "Introduction \n",
    "\n",
    "This project will study demographics information for each neighborhood in Toronto. The data contain fields for average income, whether people rent or own their houses, what the second most spoken language is (after English) and other useful information. From these data we will establish correlations with restaurant or other venues that are extracted using Foursquare API for those neighborhoods. Merging these data will hopefully suggest whether opening a new restaurant in a given neighborhood makes sense or not. \n",
    "\n"
   ]
  }
 ],
 "metadata": {
  "kernelspec": {
   "display_name": "Python 3",
   "language": "python",
   "name": "python3"
  },
  "language_info": {
   "codemirror_mode": {
    "name": "ipython",
    "version": 3
   },
   "file_extension": ".py",
   "mimetype": "text/x-python",
   "name": "python",
   "nbconvert_exporter": "python",
   "pygments_lexer": "ipython3",
   "version": "3.6.10"
  }
 },
 "nbformat": 4,
 "nbformat_minor": 2
}
