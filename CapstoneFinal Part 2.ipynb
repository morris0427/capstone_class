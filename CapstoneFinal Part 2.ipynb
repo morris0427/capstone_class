{
 "cells": [
  {
   "cell_type": "markdown",
   "metadata": {},
   "source": [
    "Toronto Neighborhood Demographics and the Potential for New Restaurant Success\n",
    "\n",
    "\n",
    "Data Sets to be Used\n",
    "\n",
    "The demographics data is downloaded at\n",
    "\n",
    "https://en.wikipedia.org/wiki/Demographics_of_Toronto_neighbourhoods'\n",
    "\n",
    "We will visualize these data on maps.\n",
    "\n",
    "Based on these data we will try to establish correlations or generate statistics that will allow us to determine things like whether the neighborhood can support a new restaurant of a certain ethnicity or price scale. For example, in a neighborhood where many people speak Polish, can the restaurant support a new upscale Polish restaurant? Or is the average income so low in this neighborhood that an upscale restauarant will not likely to succeed? \n"
   ]
  }
 ],
 "metadata": {
  "kernelspec": {
   "display_name": "Python 3",
   "language": "python",
   "name": "python3"
  },
  "language_info": {
   "codemirror_mode": {
    "name": "ipython",
    "version": 3
   },
   "file_extension": ".py",
   "mimetype": "text/x-python",
   "name": "python",
   "nbconvert_exporter": "python",
   "pygments_lexer": "ipython3",
   "version": "3.6.10"
  }
 },
 "nbformat": 4,
 "nbformat_minor": 2
}
